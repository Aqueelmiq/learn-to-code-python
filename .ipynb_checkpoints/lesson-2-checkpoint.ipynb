{
 "cells": [
  {
   "cell_type": "code",
   "execution_count": 1,
   "metadata": {
    "collapsed": true
   },
   "outputs": [],
   "source": [
    "# This is a comment\n",
    "# It doesn't get executed! So you can babble anything here\n",
    "# How to make computer make deciscions"
   ]
  },
  {
   "cell_type": "code",
   "execution_count": 2,
   "metadata": {
    "collapsed": true
   },
   "outputs": [],
   "source": [
    "kid_name = \"Marwin\"\n",
    "kid_behavior = \"Nice\""
   ]
  },
  {
   "cell_type": "code",
   "execution_count": 3,
   "metadata": {},
   "outputs": [
    {
     "name": "stdout",
     "output_type": "stream",
     "text": [
      "Marwin gets a present!\n"
     ]
    }
   ],
   "source": [
    "if kid_behavior == \"Nice\":\n",
    "    print(kid_name + \" gets a present!\")"
   ]
  },
  {
   "cell_type": "code",
   "execution_count": 4,
   "metadata": {
    "collapsed": true
   },
   "outputs": [],
   "source": [
    "if kid_behavior == \"Naughty\":\n",
    "    print(kid_name + \" doesn't get a present!\")"
   ]
  },
  {
   "cell_type": "code",
   "execution_count": 5,
   "metadata": {},
   "outputs": [
    {
     "name": "stdout",
     "output_type": "stream",
     "text": [
      "Marwin gets a present!\n"
     ]
    }
   ],
   "source": [
    "if kid_behavior == \"Nice\":\n",
    "    print(kid_name + \" gets a present!\")\n",
    "else:\n",
    "    print(kid_name + \" doesn't get a present!\")"
   ]
  },
  {
   "cell_type": "code",
   "execution_count": 6,
   "metadata": {},
   "outputs": [
    {
     "name": "stdout",
     "output_type": "stream",
     "text": [
      "Nice\n",
      "Marwin gets a present!\n"
     ]
    }
   ],
   "source": [
    "kid_behavior = input()\n",
    "if kid_behavior == \"Nice\":\n",
    "    print(kid_name + \" gets a present!\")\n",
    "else:\n",
    "    print(kid_name + \" doesn't get a present!\")"
   ]
  },
  {
   "cell_type": "code",
   "execution_count": 7,
   "metadata": {},
   "outputs": [
    {
     "name": "stdout",
     "output_type": "stream",
     "text": [
      "Naughty\n",
      "Marwin doesn't get a present!\n"
     ]
    }
   ],
   "source": [
    "kid_behavior = input()\n",
    "if kid_behavior == \"Nice\":\n",
    "    print(kid_name + \" gets a present!\")\n",
    "elif kid_behavior == \"Naughty\":\n",
    "    print(kid_name + \" doesn't get a present!\")\n",
    "else:\n",
    "    print(\"We don't understand your input\")"
   ]
  },
  {
   "cell_type": "code",
   "execution_count": 8,
   "metadata": {},
   "outputs": [
    {
     "ename": "IndentationError",
     "evalue": "expected an indented block (<ipython-input-8-a80619c17b7a>, line 3)",
     "output_type": "error",
     "traceback": [
      "\u001b[0;36m  File \u001b[0;32m\"<ipython-input-8-a80619c17b7a>\"\u001b[0;36m, line \u001b[0;32m3\u001b[0m\n\u001b[0;31m    print(kid_name + \" gets a present!\")\u001b[0m\n\u001b[0m        ^\u001b[0m\n\u001b[0;31mIndentationError\u001b[0m\u001b[0;31m:\u001b[0m expected an indented block\n"
     ]
    }
   ],
   "source": [
    "kid_behavior = input()\n",
    "if kid_behavior == \"Nice\":\n",
    "print(kid_name + \" gets a present!\")\n",
    "elif kid_behavior == \"Naughty\":\n",
    "    print(kid_name + \" doesn't get a present!\")\n",
    "else:\n",
    "    print(\"We don't understand your input\")"
   ]
  },
  {
   "cell_type": "code",
   "execution_count": 9,
   "metadata": {},
   "outputs": [
    {
     "name": "stdout",
     "output_type": "stream",
     "text": [
      "nice\n",
      "We don't understand your input\n",
      "Please try again!\n"
     ]
    }
   ],
   "source": [
    "kid_behavior = input()\n",
    "if kid_behavior == \"Nice\":\n",
    "    print(kid_name + \" gets a present!\")\n",
    "elif kid_behavior == \"Naughty\":\n",
    "    print(kid_name + \" doesn't get a present!\")\n",
    "else:\n",
    "    print(\"We don't understand your input\")\n",
    "print(\"Please try again!\")"
   ]
  },
  {
   "cell_type": "code",
   "execution_count": null,
   "metadata": {
    "collapsed": true
   },
   "outputs": [],
   "source": [
    "kid_grade = 41"
   ]
  },
  {
   "cell_type": "code",
   "execution_count": null,
   "metadata": {},
   "outputs": [],
   "source": [
    "if kid_grade > 90:\n",
    "    print(kid_name + \" gets an A grade\")\n",
    "    print(kid_name + \" gets a present!\")\n",
    "elif kid_grade > 80:\n",
    "    print(kid_name + \" gets an B grade\")\n",
    "    print(kid_name + \" doesn't get a present!\")\n",
    "elif kid_grade > 70:\n",
    "    print(kid_name + \" gets an C grade\")\n",
    "    print(kid_name + \" doesn't get a present!\")\n",
    "else:\n",
    "    print(kid_name + \" is a failure.\")\n",
    "    print(kid_name + \" doesn't get a present!\")"
   ]
  },
  {
   "cell_type": "code",
   "execution_count": null,
   "metadata": {
    "collapsed": true
   },
   "outputs": [],
   "source": [
    "kid_name = \"Bella\""
   ]
  },
  {
   "cell_type": "code",
   "execution_count": null,
   "metadata": {},
   "outputs": [],
   "source": [
    "if kid_grade > 90:\n",
    "    print(kid_name + \" gets an A grade\")\n",
    "    print(kid_name + \" gets a present!\")\n",
    "elif kid_grade > 80:\n",
    "    print(kid_name + \" gets an B grade\")\n",
    "    print(kid_name + \" doesn't get a present!\")\n",
    "elif kid_grade > 70:\n",
    "    print(kid_name + \" gets an C grade\")\n",
    "    print(kid_name + \" doesn't get a present!\")\n",
    "else:\n",
    "    print(kid_name + \" is a failure.\")\n",
    "    print(kid_name + \" doesn't get a present!\")"
   ]
  },
  {
   "cell_type": "code",
   "execution_count": null,
   "metadata": {
    "collapsed": true
   },
   "outputs": [],
   "source": [
    "kid_grade = 99"
   ]
  },
  {
   "cell_type": "code",
   "execution_count": null,
   "metadata": {},
   "outputs": [],
   "source": [
    "if kid_grade > 90:\n",
    "    print(kid_name + \" gets an A grade\")\n",
    "    print(kid_name + \" gets a present!\")\n",
    "elif kid_grade > 80:\n",
    "    print(kid_name + \" gets an B grade\")\n",
    "    print(kid_name + \" doesn't get a present!\")\n",
    "elif kid_grade > 70:\n",
    "    print(kid_name + \" gets an C grade\")\n",
    "    print(kid_name + \" doesn't get a present!\")\n",
    "else:\n",
    "    print(kid_name + \" is a failure.\")\n",
    "    print(kid_name + \" doesn't get a present!\")"
   ]
  },
  {
   "cell_type": "code",
   "execution_count": null,
   "metadata": {
    "collapsed": true
   },
   "outputs": [],
   "source": [
    "# Things are getting hard top track!\n",
    "# so many variables for the same kid!\n",
    "# Enter Dictionary, no not what you are thinking"
   ]
  },
  {
   "cell_type": "code",
   "execution_count": 12,
   "metadata": {
    "collapsed": true
   },
   "outputs": [],
   "source": [
    "kid = {}"
   ]
  },
  {
   "cell_type": "code",
   "execution_count": 13,
   "metadata": {},
   "outputs": [],
   "source": [
    "kid[\"name\"] = \"Bella\"\n",
    "kid[\"grade\"] = 99\n",
    "kid[\"behavior\"] = \"Nice\""
   ]
  },
  {
   "cell_type": "code",
   "execution_count": 17,
   "metadata": {},
   "outputs": [
    {
     "name": "stdout",
     "output_type": "stream",
     "text": [
      "Kid: Bella\n",
      "Behavior: Nice\n"
     ]
    }
   ],
   "source": [
    "print(\"Kid: \" + kid[\"name\"])\n",
    "print(\"Behavior: \" + kid[\"behavior\"])"
   ]
  },
  {
   "cell_type": "code",
   "execution_count": 18,
   "metadata": {},
   "outputs": [
    {
     "name": "stdout",
     "output_type": "stream",
     "text": [
      "Bella gets an A grade\n",
      "Bella gets a present!\n"
     ]
    }
   ],
   "source": [
    "if kid[\"grade\"] > 90:\n",
    "    print(kid[\"name\"] + \" gets an A grade\")\n",
    "    print(kid[\"name\"] + \" gets a present!\")\n",
    "elif kid[\"grade\"] > 80:\n",
    "    print(kid[\"name\"] + \" gets an B grade\")\n",
    "    print(kid[\"name\"] + \" doesn't get a present!\")\n",
    "elif kid[\"grade\"] > 70:\n",
    "    print(kid[\"name\"] + \" gets an C grade\")\n",
    "    print(kid[\"name\"] + \" doesn't get a present!\")\n",
    "else:\n",
    "    print(kid[\"name\"] + \" is a failure.\")\n",
    "    print(kid[\"name\"] + \" doesn't get a present!\")"
   ]
  },
  {
   "cell_type": "code",
   "execution_count": 19,
   "metadata": {
    "collapsed": true
   },
   "outputs": [],
   "source": [
    "kid2 = {\"name\": \"Marwin\", \"behavior\": \"Bad\", \"grade\": 41}"
   ]
  },
  {
   "cell_type": "code",
   "execution_count": 20,
   "metadata": {},
   "outputs": [
    {
     "name": "stdout",
     "output_type": "stream",
     "text": [
      "Marwin is a failure.\n",
      "Marwin doesn't get a present!\n"
     ]
    }
   ],
   "source": [
    "if kid2[\"grade\"] > 90:\n",
    "    print(kid2[\"name\"] + \" gets an A grade\")\n",
    "    print(kid2[\"name\"] + \" gets a present!\")\n",
    "elif kid2[\"grade\"] > 80:\n",
    "    print(kid2[\"name\"] + \" gets an B grade\")\n",
    "    print(kid2[\"name\"] + \" doesn't get a present!\")\n",
    "elif kid2[\"grade\"] > 70:\n",
    "    print(kid2[\"name\"] + \" gets an C grade\")\n",
    "    print(kid2[\"name\"] + \" doesn't get a present!\")\n",
    "else:\n",
    "    print(kid2[\"name\"] + \" is a failure.\")\n",
    "    print(kid2[\"name\"] + \" doesn't get a present!\")"
   ]
  },
  {
   "cell_type": "code",
   "execution_count": null,
   "metadata": {
    "collapsed": true
   },
   "outputs": [],
   "source": [
    "# It's so tedious to re write everything!\n",
    "# Don't worry, you will love functions/methods when you learn it later!"
   ]
  }
 ],
 "metadata": {
  "kernelspec": {
   "display_name": "Python 3",
   "language": "python",
   "name": "python3"
  },
  "language_info": {
   "codemirror_mode": {
    "name": "ipython",
    "version": 3
   },
   "file_extension": ".py",
   "mimetype": "text/x-python",
   "name": "python",
   "nbconvert_exporter": "python",
   "pygments_lexer": "ipython3",
   "version": "3.6.1"
  }
 },
 "nbformat": 4,
 "nbformat_minor": 2
}
