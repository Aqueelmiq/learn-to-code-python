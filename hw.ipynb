{
 "cells": [
  {
   "cell_type": "code",
   "execution_count": 2,
   "metadata": {},
   "outputs": [],
   "source": [
    "def isValid(books, max_pgs_per_student, num_students):\n",
    "    \n",
    "    pgs_for_cur_student = 0\n",
    "    student_count = 0\n",
    "    \n",
    "    for book_pages in books:\n",
    "        if pgs_for_cur_student + book_pages < max_pgs_per_student:\n",
    "            pgs_for_cur_student += book\n",
    "        else:\n",
    "            student_count += 1\n",
    "            if student_count > num_students:\n",
    "                return 0\n",
    "            pgs_for_cur_student = book\n",
    "            \n",
    "    return 1"
   ]
  },
  {
   "cell_type": "code",
   "execution_count": null,
   "metadata": {
    "collapsed": true
   },
   "outputs": [],
   "source": []
  }
 ],
 "metadata": {
  "kernelspec": {
   "display_name": "Python 3",
   "language": "python",
   "name": "python3"
  },
  "language_info": {
   "codemirror_mode": {
    "name": "ipython",
    "version": 3
   },
   "file_extension": ".py",
   "mimetype": "text/x-python",
   "name": "python",
   "nbconvert_exporter": "python",
   "pygments_lexer": "ipython3",
   "version": "3.6.1"
  }
 },
 "nbformat": 4,
 "nbformat_minor": 2
}
