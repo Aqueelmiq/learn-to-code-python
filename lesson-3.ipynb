{
 "cells": [
  {
   "cell_type": "code",
   "execution_count": null,
   "metadata": {
    "collapsed": true
   },
   "outputs": [],
   "source": [
    "# Computers are so good at repeating things!\n",
    "# they are damn fast at it"
   ]
  },
  {
   "cell_type": "code",
   "execution_count": null,
   "metadata": {
    "collapsed": true
   },
   "outputs": [],
   "source": [
    "count = 0\n",
    "while count < 10:\n",
    "    count = count + 1\n",
    "    print(count)"
   ]
  },
  {
   "cell_type": "code",
   "execution_count": null,
   "metadata": {
    "collapsed": true
   },
   "outputs": [],
   "source": [
    "# Let's open a McDonalds with only two burgers\n",
    "burger1 = {\"name\": \"Quarter Pounder\", \"price\": \"5.0$\"}\n",
    "burger2 = {\"name\": \"Cheeseburger\", \"price\": \"3.0$\"}"
   ]
  },
  {
   "cell_type": "code",
   "execution_count": null,
   "metadata": {
    "collapsed": true
   },
   "outputs": [],
   "source": [
    "while True:\n",
    "    print(\"What burger do you want?\")\n",
    "    order = input()\n",
    "    if(order == burger1[\"name\"]):\n",
    "        print(\"Your bill is \" + burger1[\"price\"])\n",
    "    elif(order == burger2[\"name\"]):\n",
    "        print(\"Your bill is \" + burger2[\"price\"])\n",
    "    else:\n",
    "        break"
   ]
  },
  {
   "cell_type": "code",
   "execution_count": null,
   "metadata": {
    "collapsed": true
   },
   "outputs": [],
   "source": [
    "burger1 = {\"name\": \"Quarter Pounder\", \"price\": 5}\n",
    "burger2 = {\"name\": \"Cheeseburger\", \"price\": 3}\n",
    "drink1 = {\"name\": \"Coke\", \"price\": 1}\n",
    "drink2 = {\"name\": \"Sprite\", \"price\": 2}\n",
    "\n",
    "bill = 0\n",
    "\n",
    "while True:\n",
    "    print(\"What do you want?\")\n",
    "    order = input()\n",
    "    if(order == burger1[\"name\"]):\n",
    "        bill = bill + burger1[\"price\"]\n",
    "    elif(order == burger2[\"name\"]):\n",
    "        bill = bill + burger1[\"price\"]\n",
    "    elif(order == drink1[\"name\"]):\n",
    "        bill = bill + drink1[\"price\"]\n",
    "    elif(order == drink2[\"name\"]):\n",
    "        bill = bill + drink2[\"price\"]\n",
    "    else:\n",
    "        print(\"Your total is: \" + str(bill))\n",
    "        print(\"Thank you for your order\")\n",
    "        break"
   ]
  },
  {
   "cell_type": "code",
   "execution_count": null,
   "metadata": {
    "collapsed": true
   },
   "outputs": [],
   "source": [
    "# Boolean\n",
    "taking_order = True\n",
    "\n",
    "bill = 0\n",
    "\n",
    "while taking_order:\n",
    "    print(\"What do you want?\")\n",
    "    order = input()\n",
    "    if(order == burger1[\"name\"]):\n",
    "        bill = bill + burger1[\"price\"]\n",
    "    elif(order == burger2[\"name\"]):\n",
    "        bill = bill + burger1[\"price\"]\n",
    "    elif(order == drink1[\"name\"]):\n",
    "        bill = bill + drink1[\"price\"]\n",
    "    elif(order == drink2[\"name\"]):\n",
    "        bill = bill + drink2[\"price\"]\n",
    "    else:\n",
    "        print(\"Your total is: \" + str(bill))\n",
    "        print(\"Thank you for your order\")\n",
    "        taking_order = False"
   ]
  },
  {
   "cell_type": "code",
   "execution_count": null,
   "metadata": {
    "collapsed": true
   },
   "outputs": [],
   "source": [
    "# Santa didnt like your naughty or nice \n",
    "# How is he supposed to enter 1 billion kids by himself\n",
    "# He is mad\n",
    "# How do we take a list?\n",
    "# Enter list XD!"
   ]
  },
  {
   "cell_type": "code",
   "execution_count": null,
   "metadata": {
    "collapsed": true
   },
   "outputs": [],
   "source": [
    "kids = [\"Marwin\", \"Bella\", \"Johnny\"]"
   ]
  },
  {
   "cell_type": "code",
   "execution_count": null,
   "metadata": {
    "collapsed": true
   },
   "outputs": [],
   "source": [
    "kids"
   ]
  },
  {
   "cell_type": "code",
   "execution_count": null,
   "metadata": {
    "collapsed": true
   },
   "outputs": [],
   "source": [
    "menu = [burger1, burger2, drink1, drink2]\n",
    "menu"
   ]
  },
  {
   "cell_type": "code",
   "execution_count": null,
   "metadata": {
    "collapsed": true
   },
   "outputs": [],
   "source": [
    "menu[0]"
   ]
  },
  {
   "cell_type": "code",
   "execution_count": null,
   "metadata": {
    "collapsed": true
   },
   "outputs": [],
   "source": [
    "menu[1]"
   ]
  },
  {
   "cell_type": "code",
   "execution_count": null,
   "metadata": {
    "collapsed": true
   },
   "outputs": [],
   "source": [
    "menu[3]"
   ]
  },
  {
   "cell_type": "code",
   "execution_count": null,
   "metadata": {
    "collapsed": true
   },
   "outputs": [],
   "source": [
    "menu[8]"
   ]
  },
  {
   "cell_type": "code",
   "execution_count": null,
   "metadata": {
    "collapsed": true
   },
   "outputs": [],
   "source": [
    "index = 0"
   ]
  },
  {
   "cell_type": "code",
   "execution_count": null,
   "metadata": {
    "collapsed": true
   },
   "outputs": [],
   "source": [
    "while index < 4:\n",
    "    print(\"Item \" + str(index) + \": \")\n",
    "    print(menu[index])\n",
    "    index = index + 1"
   ]
  },
  {
   "cell_type": "code",
   "execution_count": null,
   "metadata": {
    "collapsed": true
   },
   "outputs": [],
   "source": [
    "for item in menu:\n",
    "    print(item)"
   ]
  },
  {
   "cell_type": "code",
   "execution_count": null,
   "metadata": {
    "collapsed": true
   },
   "outputs": [],
   "source": [
    "for index in range(4):\n",
    "    print(\"Item \" + str(index) + \": \")\n",
    "    print(menu[index][\"name\"] + \" - Price: \" + str(menu[index][\"price\"]))"
   ]
  },
  {
   "cell_type": "code",
   "execution_count": null,
   "metadata": {
    "collapsed": true
   },
   "outputs": [],
   "source": [
    "taking_order = True\n",
    "\n",
    "while taking_order:\n",
    "    for index in range(4):\n",
    "        print(\"Item \" + str(index) + \": \")\n",
    "        print(menu[index][\"name\"] + \" - Price: \" + str(menu[index][\"price\"]))\n",
    "    print(\"\\nWhat do you want?\\n\")\n",
    "    order = input()\n",
    "    if(order == burger1[\"name\"]):\n",
    "        bill = bill + burger1[\"price\"]\n",
    "    elif(order == burger2[\"name\"]):\n",
    "        bill = bill + burger1[\"price\"]\n",
    "    elif(order == drink1[\"name\"]):\n",
    "        bill = bill + drink1[\"price\"]\n",
    "    elif(order == drink2[\"name\"]):\n",
    "        bill = bill + drink2[\"price\"]\n",
    "    else:\n",
    "        print(\"Your total is: \" + str(bill))\n",
    "        print(\"Thank you for your order\")\n",
    "        taking_order = False"
   ]
  },
  {
   "cell_type": "code",
   "execution_count": null,
   "metadata": {
    "collapsed": true
   },
   "outputs": [],
   "source": [
    "# Let's get back to Santa tho\n",
    "\n",
    "nice_list = [\"Marwin\", \"Bella\", \"Jeevan\"]\n",
    "\n",
    "find_kid = input()\n",
    "\n",
    "if find_kid in kids:\n",
    "    print(find_kid + \" is in nice list\")\n",
    "else:\n",
    "    print(find_kid + \" has been naughty!\")"
   ]
  },
  {
   "cell_type": "code",
   "execution_count": null,
   "metadata": {
    "collapsed": true
   },
   "outputs": [],
   "source": [
    "marwin_score = [10, 9, 9, 1, 2, 9, 9, 6, 6, 1]"
   ]
  },
  {
   "cell_type": "code",
   "execution_count": null,
   "metadata": {
    "collapsed": true
   },
   "outputs": [],
   "source": [
    "marwin_total_score = 0\n",
    "\n",
    "for score in marwin_score:\n",
    "    marwin_total_score += score\n",
    "    \n",
    "print(\"Marwin score: \" + str(marwin_total_score))\n",
    "\n",
    "if marwin_total_score > 60:\n",
    "    print(\"Marwin is nice!\")\n",
    "else:\n",
    "    print(\"Marwin has been a bad boy\")"
   ]
  },
  {
   "cell_type": "code",
   "execution_count": null,
   "metadata": {
    "collapsed": true
   },
   "outputs": [],
   "source": [
    "kids = [\n",
    "    {\"name\": \"Marwin\", \"score\": 81},\n",
    "    {\"name\": \"Bella\", \"score\": 11},\n",
    "    {\"name\": \"Aaron\", \"score\": 93},\n",
    "    {\"name\": \"Neil\", \"score\": 64},\n",
    "    {\"name\": \"Ikena\", \"score\": 102},\n",
    "    {\"name\": \"Son Min\", \"score\": 11},\n",
    "    {\"name\": \"Hugo\", \"score\": 38},\n",
    "    {\"name\": \"Akhil\", \"score\": 85},\n",
    "    {\"name\": \"Ashley\", \"score\": 91},\n",
    "    {\"name\": \"Madison\", \"score\": 91},\n",
    "    {\"name\": \"Nessy\", \"score\": 69}\n",
    "]\n",
    "\n",
    "nice_list = []\n",
    "naughty_list = []\n",
    "\n",
    "for kid in kids:\n",
    "    if kid[\"score\"] > 80:\n",
    "        nice_list = nice_list + [kid]\n",
    "    else:\n",
    "        naughty_list = naughty_list + [kid]\n",
    "        \n",
    "print(\"Naughty:\")\n",
    "print(naughty_list)\n",
    "\n",
    "print(\"Nice:\")\n",
    "print(nice_list)"
   ]
  },
  {
   "cell_type": "code",
   "execution_count": null,
   "metadata": {
    "collapsed": true
   },
   "outputs": [],
   "source": [
    "print(\"Naughty:\")\n",
    "for kid in naughty_list:\n",
    "    print(kid[\"name\"])\n",
    "    \n",
    "print(\"\\nNice:\")\n",
    "for kid in nice_list:\n",
    "    print(kid[\"name\"])"
   ]
  },
  {
   "cell_type": "code",
   "execution_count": null,
   "metadata": {
    "collapsed": true
   },
   "outputs": [],
   "source": [
    "nice_list = []\n",
    "naughty_list = []\n",
    "\n",
    "for kid in kids:\n",
    "    if kid[\"score\"] > 80:\n",
    "        nice_list.append(kid)\n",
    "    else:\n",
    "        naughty_list.append(kid)\n",
    "        \n",
    "print(\"Naughty:\")\n",
    "for kid in naughty_list:\n",
    "    print(kid[\"name\"])\n",
    "    \n",
    "print(\"\\nNice:\")\n",
    "for kid in nice_list:\n",
    "    print(kid[\"name\"])"
   ]
  },
  {
   "cell_type": "code",
   "execution_count": null,
   "metadata": {
    "collapsed": true
   },
   "outputs": [],
   "source": [
    "for i in range(len(naughty_list)):\n",
    "    if naughty_list[i][\"name\"] == \"Hugo\":\n",
    "        nice_list.append(naughty_list[i])\n",
    "        del naughty_list[i]\n",
    "        break\n",
    "\n",
    "print(\"Naughty:\")\n",
    "for kid in naughty_list:\n",
    "    print(kid[\"name\"])\n",
    "    \n",
    "print(\"\\nNice:\")\n",
    "for kid in nice_list:\n",
    "    print(kid[\"name\"])"
   ]
  },
  {
   "cell_type": "code",
   "execution_count": 2,
   "metadata": {},
   "outputs": [
    {
     "name": "stdout",
     "output_type": "stream",
     "text": [
      "12\n"
     ]
    },
    {
     "ename": "TypeError",
     "evalue": "must be str, not int",
     "output_type": "error",
     "traceback": [
      "\u001b[0;31m---------------------------------------------------------------------------\u001b[0m",
      "\u001b[0;31mTypeError\u001b[0m                                 Traceback (most recent call last)",
      "\u001b[0;32m<ipython-input-2-e363acf6566f>\u001b[0m in \u001b[0;36m<module>\u001b[0;34m()\u001b[0m\n\u001b[1;32m      1\u001b[0m \u001b[0;31m# remember input() gives you text not a number\u001b[0m\u001b[0;34m\u001b[0m\u001b[0;34m\u001b[0m\u001b[0m\n\u001b[1;32m      2\u001b[0m \u001b[0mqty\u001b[0m \u001b[0;34m=\u001b[0m \u001b[0minput\u001b[0m\u001b[0;34m(\u001b[0m\u001b[0;34m)\u001b[0m\u001b[0;34m\u001b[0m\u001b[0m\n\u001b[0;32m----> 3\u001b[0;31m \u001b[0mqty\u001b[0m \u001b[0;34m+\u001b[0m \u001b[0;36m3\u001b[0m\u001b[0;34m\u001b[0m\u001b[0m\n\u001b[0m",
      "\u001b[0;31mTypeError\u001b[0m: must be str, not int"
     ]
    }
   ],
   "source": [
    "# remember input() gives you text not a number\n",
    "qty = input()\n",
    "qty + 3"
   ]
  },
  {
   "cell_type": "code",
   "execution_count": 4,
   "metadata": {},
   "outputs": [
    {
     "name": "stdout",
     "output_type": "stream",
     "text": [
      "12\n"
     ]
    },
    {
     "data": {
      "text/plain": [
       "15"
      ]
     },
     "execution_count": 4,
     "metadata": {},
     "output_type": "execute_result"
    }
   ],
   "source": [
    "qty = int(input())\n",
    "qty + 3"
   ]
  },
  {
   "cell_type": "code",
   "execution_count": 5,
   "metadata": {},
   "outputs": [
    {
     "name": "stdout",
     "output_type": "stream",
     "text": [
      "12.1\n"
     ]
    },
    {
     "data": {
      "text/plain": [
       "15.1"
      ]
     },
     "execution_count": 5,
     "metadata": {},
     "output_type": "execute_result"
    }
   ],
   "source": [
    "qty = float(input())\n",
    "qty + 3"
   ]
  },
  {
   "cell_type": "code",
   "execution_count": null,
   "metadata": {
    "collapsed": true
   },
   "outputs": [],
   "source": [
    "# HW: Once user chooses the food item, ask for how many items and store it\n",
    "# Make sure to add correct amount to bill"
   ]
  }
 ],
 "metadata": {
  "kernelspec": {
   "display_name": "Python 3",
   "language": "python",
   "name": "python3"
  },
  "language_info": {
   "codemirror_mode": {
    "name": "ipython",
    "version": 3
   },
   "file_extension": ".py",
   "mimetype": "text/x-python",
   "name": "python",
   "nbconvert_exporter": "python",
   "pygments_lexer": "ipython3",
   "version": "3.6.1"
  }
 },
 "nbformat": 4,
 "nbformat_minor": 2
}
