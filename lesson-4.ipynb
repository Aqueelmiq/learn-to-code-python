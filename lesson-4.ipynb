{
 "cells": [
  {
   "cell_type": "code",
   "execution_count": null,
   "metadata": {
    "collapsed": true
   },
   "outputs": [],
   "source": [
    "# Things got tedious\n",
    "# We are doing too much work, but there is so little reward"
   ]
  },
  {
   "cell_type": "code",
   "execution_count": null,
   "metadata": {},
   "outputs": [],
   "source": [
    "burger1 = {\"name\": \"Quarter Pounder\", \"price\": 5}\n",
    "burger2 = {\"name\": \"Cheeseburger\", \"price\": 3}\n",
    "drink1 = {\"name\": \"Coke\", \"price\": 1}\n",
    "drink2 = {\"name\": \"Sprite\", \"price\": 2}\n",
    "\n",
    "menu = [burger1, burger2, drink1, drink2]\n",
    "taking_order = True\n",
    "bill = 0\n",
    "\n",
    "while taking_order:\n",
    "    for index in range(4):\n",
    "        print(\"Item \" + str(index) + \": \")\n",
    "        print(menu[index][\"name\"] + \" - Price: \" + str(menu[index][\"price\"]))\n",
    "    print(\"\\nWhat do you want?\\n\")\n",
    "    order = input()\n",
    "    if(order == burger1[\"name\"]):\n",
    "        bill = bill + burger1[\"price\"]\n",
    "    elif(order == burger2[\"name\"]):\n",
    "        bill = bill + burger1[\"price\"]\n",
    "    elif(order == drink1[\"name\"]):\n",
    "        bill = bill + drink1[\"price\"]\n",
    "    elif(order == drink2[\"name\"]):\n",
    "        bill = bill + drink2[\"price\"]\n",
    "    else:\n",
    "        print(\"Your total is: \" + str(bill))\n",
    "        print(\"Thank you for your order\")\n",
    "        taking_order = False"
   ]
  },
  {
   "cell_type": "code",
   "execution_count": null,
   "metadata": {},
   "outputs": [],
   "source": [
    "burger1 = {\"name\": \"Quarter Pounder\", \"price\": 5}\n",
    "burger2 = {\"name\": \"Cheeseburger\", \"price\": 3}\n",
    "drink1 = {\"name\": \"Coke\", \"price\": 1}\n",
    "drink2 = {\"name\": \"Sprite\", \"price\": 2}\n",
    "\n",
    "menu = [burger1, burger2, drink1, drink2]\n",
    "taking_order = True\n",
    "bill = 0\n",
    "\n",
    "while taking_order:\n",
    "    for index in range(4):\n",
    "        print(\"Item \" + str(index) + \": \")\n",
    "        print(menu[index][\"name\"] + \" - Price: \" + str(menu[index][\"price\"]))\n",
    "    print(\"\\nWhat do you want?\\n\")\n",
    "    order = input()\n",
    "    for item in menu:\n",
    "        if(order == item[\"name\"]):\n",
    "            bill = bill + item[\"price\"]"
   ]
  },
  {
   "cell_type": "code",
   "execution_count": 2,
   "metadata": {},
   "outputs": [
    {
     "name": "stdout",
     "output_type": "stream",
     "text": [
      "Item 0: \n",
      "Quarter Pounder - Price: 5\n",
      "Item 1: \n",
      "Cheeseburger - Price: 3\n",
      "Item 2: \n",
      "Coke - Price: 1\n",
      "Item 3: \n",
      "Sprite - Price: 2\n",
      "\n",
      "What do you want?\n",
      "\n",
      "Coke\n",
      "Item 0: \n",
      "Quarter Pounder - Price: 5\n",
      "Item 1: \n",
      "Cheeseburger - Price: 3\n",
      "Item 2: \n",
      "Coke - Price: 1\n",
      "Item 3: \n",
      "Sprite - Price: 2\n",
      "\n",
      "What do you want?\n",
      "\n",
      "Cheeseburger\n",
      "Item 0: \n",
      "Quarter Pounder - Price: 5\n",
      "Item 1: \n",
      "Cheeseburger - Price: 3\n",
      "Item 2: \n",
      "Coke - Price: 1\n",
      "Item 3: \n",
      "Sprite - Price: 2\n",
      "\n",
      "What do you want?\n",
      "\n",
      "done\n",
      "Your total is: 4\n",
      "Thank you for your order\n"
     ]
    }
   ],
   "source": [
    "burger1 = {\"name\": \"Quarter Pounder\", \"price\": 5}\n",
    "burger2 = {\"name\": \"Cheeseburger\", \"price\": 3}\n",
    "drink1 = {\"name\": \"Coke\", \"price\": 1}\n",
    "drink2 = {\"name\": \"Sprite\", \"price\": 2}\n",
    "\n",
    "menu = [burger1, burger2, drink1, drink2]\n",
    "taking_order = True\n",
    "bill = 0\n",
    "\n",
    "while taking_order:\n",
    "    for index in range(4):\n",
    "        print(\"Item \" + str(index) + \": \")\n",
    "        print(menu[index][\"name\"] + \" - Price: \" + str(menu[index][\"price\"]))\n",
    "    print(\"\\nWhat do you want?\\n\")\n",
    "    order = input()\n",
    "    if order == \"done\":\n",
    "        taking_order = False\n",
    "    for item in menu:\n",
    "        if(order == item[\"name\"]):\n",
    "            bill = bill + item[\"price\"] \n",
    "\n",
    "print(\"Your total is: \" + str(bill))\n",
    "print(\"Thank you for your order\")"
   ]
  },
  {
   "cell_type": "code",
   "execution_count": 4,
   "metadata": {},
   "outputs": [
    {
     "name": "stdout",
     "output_type": "stream",
     "text": [
      "Naughty:\n",
      "Bella\n",
      "Neil\n",
      "Son Min\n",
      "Hugo\n",
      "Nessy\n",
      "\n",
      "Nice:\n",
      "Marwin\n",
      "Aaron\n",
      "Ikena\n",
      "Akhil\n",
      "Ashley\n",
      "Madison\n"
     ]
    }
   ],
   "source": [
    "kids = [\n",
    "    {\"name\": \"Marwin\", \"score\": 81},\n",
    "    {\"name\": \"Bella\", \"score\": 11},\n",
    "    {\"name\": \"Aaron\", \"score\": 93},\n",
    "    {\"name\": \"Neil\", \"score\": 64},\n",
    "    {\"name\": \"Ikena\", \"score\": 102},\n",
    "    {\"name\": \"Son Min\", \"score\": 11},\n",
    "    {\"name\": \"Hugo\", \"score\": 38},\n",
    "    {\"name\": \"Akhil\", \"score\": 85},\n",
    "    {\"name\": \"Ashley\", \"score\": 91},\n",
    "    {\"name\": \"Madison\", \"score\": 91},\n",
    "    {\"name\": \"Nessy\", \"score\": 69}\n",
    "]\n",
    "\n",
    "nice_list = []\n",
    "naughty_list = []\n",
    "\n",
    "for kid in kids:\n",
    "    if kid[\"score\"] > 80:\n",
    "        nice_list.append(kid)\n",
    "    else:\n",
    "        naughty_list.append(kid)\n",
    "        \n",
    "print(\"Naughty:\")\n",
    "for kid in naughty_list:\n",
    "    print(kid[\"name\"])\n",
    "    \n",
    "print(\"\\nNice:\")\n",
    "for kid in nice_list:\n",
    "    print(kid[\"name\"])"
   ]
  },
  {
   "cell_type": "code",
   "execution_count": 5,
   "metadata": {
    "collapsed": true
   },
   "outputs": [],
   "source": [
    "def print_items(items):\n",
    "    for item in items:\n",
    "        print(item[\"name\"])"
   ]
  },
  {
   "cell_type": "code",
   "execution_count": 6,
   "metadata": {},
   "outputs": [
    {
     "name": "stdout",
     "output_type": "stream",
     "text": [
      "Quarter Pounder\n",
      "Cheeseburger\n",
      "Coke\n",
      "Sprite\n",
      "\n",
      "What do you want?\n",
      "\n",
      "done\n",
      "Your total is: 0\n",
      "Thank you for your order\n"
     ]
    }
   ],
   "source": [
    "burger1 = {\"name\": \"Quarter Pounder\", \"price\": 5}\n",
    "burger2 = {\"name\": \"Cheeseburger\", \"price\": 3}\n",
    "drink1 = {\"name\": \"Coke\", \"price\": 1}\n",
    "drink2 = {\"name\": \"Sprite\", \"price\": 2}\n",
    "\n",
    "menu = [burger1, burger2, drink1, drink2]\n",
    "taking_order = True\n",
    "bill = 0\n",
    "\n",
    "while taking_order:\n",
    "    print_items(menu)\n",
    "    print(\"\\nWhat do you want?\\n\")\n",
    "    order = input()\n",
    "    if order == \"done\":\n",
    "        taking_order = False\n",
    "    for item in menu:\n",
    "        if(order == item[\"name\"]):\n",
    "            bill = bill + item[\"price\"] \n",
    "\n",
    "print(\"Your total is: \" + str(bill))\n",
    "print(\"Thank you for your order\")"
   ]
  },
  {
   "cell_type": "code",
   "execution_count": 8,
   "metadata": {},
   "outputs": [
    {
     "name": "stdout",
     "output_type": "stream",
     "text": [
      "Naughty:\n",
      "Marwin\n",
      "Aaron\n",
      "Ikena\n",
      "Akhil\n",
      "Ashley\n",
      "Madison\n",
      "\n",
      "Nice:\n",
      "Bella\n",
      "Neil\n",
      "Son Min\n",
      "Hugo\n",
      "Nessy\n"
     ]
    }
   ],
   "source": [
    "kids = [\n",
    "    {\"name\": \"Marwin\", \"score\": 81},\n",
    "    {\"name\": \"Bella\", \"score\": 11},\n",
    "    {\"name\": \"Aaron\", \"score\": 93},\n",
    "    {\"name\": \"Neil\", \"score\": 64},\n",
    "    {\"name\": \"Ikena\", \"score\": 102},\n",
    "    {\"name\": \"Son Min\", \"score\": 11},\n",
    "    {\"name\": \"Hugo\", \"score\": 38},\n",
    "    {\"name\": \"Akhil\", \"score\": 85},\n",
    "    {\"name\": \"Ashley\", \"score\": 91},\n",
    "    {\"name\": \"Madison\", \"score\": 91},\n",
    "    {\"name\": \"Nessy\", \"score\": 69}\n",
    "]\n",
    "\n",
    "nice_list = []\n",
    "naughty_list = []\n",
    "\n",
    "for kid in kids:\n",
    "    if kid[\"score\"] > 80:\n",
    "        nice_list.append(kid)\n",
    "    else:\n",
    "        naughty_list.append(kid)\n",
    "        \n",
    "print(\"Naughty:\")\n",
    "print_items(nice_list)\n",
    "    \n",
    "print(\"\\nNice:\")\n",
    "print_items(naughty_list)"
   ]
  },
  {
   "cell_type": "code",
   "execution_count": 15,
   "metadata": {
    "collapsed": true
   },
   "outputs": [],
   "source": [
    "def print_items(items, keys):\n",
    "    for item in items:\n",
    "        for key in keys:\n",
    "            print(key + \": \" + str(item[key]), end=\" \")\n",
    "        print(\"\")"
   ]
  },
  {
   "cell_type": "code",
   "execution_count": 16,
   "metadata": {},
   "outputs": [
    {
     "name": "stdout",
     "output_type": "stream",
     "text": [
      "Naughty:\n",
      "name: Marwin score: 81 \n",
      "name: Aaron score: 93 \n",
      "name: Ikena score: 102 \n",
      "name: Akhil score: 85 \n",
      "name: Ashley score: 91 \n",
      "name: Madison score: 91 \n",
      "\n",
      "Nice:\n",
      "name: Bella \n",
      "name: Neil \n",
      "name: Son Min \n",
      "name: Hugo \n",
      "name: Nessy \n"
     ]
    }
   ],
   "source": [
    "kids = [\n",
    "    {\"name\": \"Marwin\", \"score\": 81},\n",
    "    {\"name\": \"Bella\", \"score\": 11},\n",
    "    {\"name\": \"Aaron\", \"score\": 93},\n",
    "    {\"name\": \"Neil\", \"score\": 64},\n",
    "    {\"name\": \"Ikena\", \"score\": 102},\n",
    "    {\"name\": \"Son Min\", \"score\": 11},\n",
    "    {\"name\": \"Hugo\", \"score\": 38},\n",
    "    {\"name\": \"Akhil\", \"score\": 85},\n",
    "    {\"name\": \"Ashley\", \"score\": 91},\n",
    "    {\"name\": \"Madison\", \"score\": 91},\n",
    "    {\"name\": \"Nessy\", \"score\": 69}\n",
    "]\n",
    "\n",
    "nice_list = []\n",
    "naughty_list = []\n",
    "\n",
    "for kid in kids:\n",
    "    if kid[\"score\"] > 80:\n",
    "        nice_list.append(kid)\n",
    "    else:\n",
    "        naughty_list.append(kid)\n",
    "        \n",
    "print(\"Naughty:\")\n",
    "print_items(nice_list, [\"name\", \"score\"])\n",
    "    \n",
    "print(\"\\nNice:\")\n",
    "print_items(naughty_list, [\"name\"])"
   ]
  },
  {
   "cell_type": "code",
   "execution_count": 17,
   "metadata": {},
   "outputs": [
    {
     "name": "stdout",
     "output_type": "stream",
     "text": [
      "name: Quarter Pounder price: 5 \n",
      "name: Cheeseburger price: 3 \n",
      "name: Coke price: 1 \n",
      "name: Sprite price: 2 \n",
      "\n",
      "What do you want?\n",
      "\n",
      "Quarter Pounder\n",
      "name: Quarter Pounder price: 5 \n",
      "name: Cheeseburger price: 3 \n",
      "name: Coke price: 1 \n",
      "name: Sprite price: 2 \n",
      "\n",
      "What do you want?\n",
      "\n",
      "Coke\n",
      "name: Quarter Pounder price: 5 \n",
      "name: Cheeseburger price: 3 \n",
      "name: Coke price: 1 \n",
      "name: Sprite price: 2 \n",
      "\n",
      "What do you want?\n",
      "\n",
      "done\n",
      "Your total is: 6\n",
      "Thank you for your order\n"
     ]
    }
   ],
   "source": [
    "burger1 = {\"name\": \"Quarter Pounder\", \"price\": 5}\n",
    "burger2 = {\"name\": \"Cheeseburger\", \"price\": 3}\n",
    "drink1 = {\"name\": \"Coke\", \"price\": 1}\n",
    "drink2 = {\"name\": \"Sprite\", \"price\": 2}\n",
    "\n",
    "menu = [burger1, burger2, drink1, drink2]\n",
    "taking_order = True\n",
    "bill = 0\n",
    "\n",
    "while taking_order:\n",
    "    print_items(menu, [\"name\", \"price\"])\n",
    "    print(\"\\nWhat do you want?\\n\")\n",
    "    order = input()\n",
    "    if order == \"done\":\n",
    "        taking_order = False\n",
    "    for item in menu:\n",
    "        if(order == item[\"name\"]):\n",
    "            bill = bill + item[\"price\"] \n",
    "\n",
    "print(\"Your total is: \" + str(bill))\n",
    "print(\"Thank you for your order\")"
   ]
  },
  {
   "cell_type": "code",
   "execution_count": 18,
   "metadata": {
    "collapsed": true
   },
   "outputs": [],
   "source": [
    "marwin_scores = [8, 8, 2, 4, 5, 6, 6, 7, 10, 6]\n",
    "bella_scores = [1, 4, 9, 9, 9, 10, 10, 10, 10, 9]\n",
    "ashley_scores = [10, 10, 10, 10, 10, 10, 10, 10, 10, 10]"
   ]
  },
  {
   "cell_type": "code",
   "execution_count": 19,
   "metadata": {
    "collapsed": true
   },
   "outputs": [],
   "source": [
    "def calculate_total(scores):\n",
    "    total = 0\n",
    "    for score in scores:\n",
    "        total += score\n",
    "    return total"
   ]
  },
  {
   "cell_type": "code",
   "execution_count": 20,
   "metadata": {},
   "outputs": [
    {
     "data": {
      "text/plain": [
       "62"
      ]
     },
     "execution_count": 20,
     "metadata": {},
     "output_type": "execute_result"
    }
   ],
   "source": [
    "calculate_total(marwin_scores)"
   ]
  },
  {
   "cell_type": "code",
   "execution_count": 21,
   "metadata": {},
   "outputs": [
    {
     "data": {
      "text/plain": [
       "81"
      ]
     },
     "execution_count": 21,
     "metadata": {},
     "output_type": "execute_result"
    }
   ],
   "source": [
    "calculate_total(bella_scores)"
   ]
  },
  {
   "cell_type": "code",
   "execution_count": 22,
   "metadata": {},
   "outputs": [
    {
     "data": {
      "text/plain": [
       "100"
      ]
     },
     "execution_count": 22,
     "metadata": {},
     "output_type": "execute_result"
    }
   ],
   "source": [
    "calculate_total(ashley_scores)"
   ]
  },
  {
   "cell_type": "code",
   "execution_count": 23,
   "metadata": {
    "collapsed": true
   },
   "outputs": [],
   "source": [
    "def make_full_name(first_name, middle_name, last_name):\n",
    "    return first_name + \" \" + middle_name + \" \" + last_name"
   ]
  },
  {
   "cell_type": "code",
   "execution_count": 24,
   "metadata": {},
   "outputs": [
    {
     "data": {
      "text/plain": [
       "'John Dead Doe'"
      ]
     },
     "execution_count": 24,
     "metadata": {},
     "output_type": "execute_result"
    }
   ],
   "source": [
    "make_full_name(\"John\", \"Dead\", \"Doe\")"
   ]
  },
  {
   "cell_type": "code",
   "execution_count": 33,
   "metadata": {
    "collapsed": true
   },
   "outputs": [],
   "source": [
    "# scopes\n",
    "def calculate_total(scores):\n",
    "    total = 0\n",
    "    for score in scores:\n",
    "        total += score\n",
    "    return 0"
   ]
  },
  {
   "cell_type": "code",
   "execution_count": 34,
   "metadata": {},
   "outputs": [
    {
     "data": {
      "text/plain": [
       "0"
      ]
     },
     "execution_count": 34,
     "metadata": {},
     "output_type": "execute_result"
    }
   ],
   "source": [
    "calculate_total(ashley_scores)"
   ]
  },
  {
   "cell_type": "code",
   "execution_count": 35,
   "metadata": {},
   "outputs": [
    {
     "ename": "NameError",
     "evalue": "name 'total' is not defined",
     "output_type": "error",
     "traceback": [
      "\u001b[0;31m---------------------------------------------------------------------------\u001b[0m",
      "\u001b[0;31mNameError\u001b[0m                                 Traceback (most recent call last)",
      "\u001b[0;32m<ipython-input-35-72afcc2d2f1a>\u001b[0m in \u001b[0;36m<module>\u001b[0;34m()\u001b[0m\n\u001b[0;32m----> 1\u001b[0;31m \u001b[0mprint\u001b[0m\u001b[0;34m(\u001b[0m\u001b[0mstr\u001b[0m\u001b[0;34m(\u001b[0m\u001b[0mtotal\u001b[0m\u001b[0;34m)\u001b[0m\u001b[0;34m)\u001b[0m\u001b[0;34m\u001b[0m\u001b[0m\n\u001b[0m",
      "\u001b[0;31mNameError\u001b[0m: name 'total' is not defined"
     ]
    }
   ],
   "source": [
    "print(str(total))"
   ]
  },
  {
   "cell_type": "code",
   "execution_count": 38,
   "metadata": {
    "collapsed": true
   },
   "outputs": [],
   "source": [
    "if True:\n",
    "    hi = \"Heloo!\""
   ]
  },
  {
   "cell_type": "code",
   "execution_count": 37,
   "metadata": {},
   "outputs": [
    {
     "data": {
      "text/plain": [
       "'Heloo!'"
      ]
     },
     "execution_count": 37,
     "metadata": {},
     "output_type": "execute_result"
    }
   ],
   "source": [
    "hi"
   ]
  },
  {
   "cell_type": "code",
   "execution_count": 43,
   "metadata": {
    "collapsed": true
   },
   "outputs": [],
   "source": [
    "# scopes\n",
    "total = 0\n",
    "def calculate_total(scores):\n",
    "    for score in scores:\n",
    "        total += score\n",
    "    return 0"
   ]
  },
  {
   "cell_type": "code",
   "execution_count": 42,
   "metadata": {},
   "outputs": [
    {
     "ename": "UnboundLocalError",
     "evalue": "local variable 'total' referenced before assignment",
     "output_type": "error",
     "traceback": [
      "\u001b[0;31m---------------------------------------------------------------------------\u001b[0m",
      "\u001b[0;31mUnboundLocalError\u001b[0m                         Traceback (most recent call last)",
      "\u001b[0;32m<ipython-input-42-e353648503f1>\u001b[0m in \u001b[0;36m<module>\u001b[0;34m()\u001b[0m\n\u001b[0;32m----> 1\u001b[0;31m \u001b[0mcalculate_total\u001b[0m\u001b[0;34m(\u001b[0m\u001b[0mashley_scores\u001b[0m\u001b[0;34m)\u001b[0m\u001b[0;34m\u001b[0m\u001b[0m\n\u001b[0m",
      "\u001b[0;32m<ipython-input-39-5e8aafed29ed>\u001b[0m in \u001b[0;36mcalculate_total\u001b[0;34m(scores)\u001b[0m\n\u001b[1;32m      3\u001b[0m \u001b[0;32mdef\u001b[0m \u001b[0mcalculate_total\u001b[0m\u001b[0;34m(\u001b[0m\u001b[0mscores\u001b[0m\u001b[0;34m)\u001b[0m\u001b[0;34m:\u001b[0m\u001b[0;34m\u001b[0m\u001b[0m\n\u001b[1;32m      4\u001b[0m     \u001b[0;32mfor\u001b[0m \u001b[0mscore\u001b[0m \u001b[0;32min\u001b[0m \u001b[0mscores\u001b[0m\u001b[0;34m:\u001b[0m\u001b[0;34m\u001b[0m\u001b[0m\n\u001b[0;32m----> 5\u001b[0;31m         \u001b[0mtotal\u001b[0m \u001b[0;34m+=\u001b[0m \u001b[0mscore\u001b[0m\u001b[0;34m\u001b[0m\u001b[0m\n\u001b[0m\u001b[1;32m      6\u001b[0m     \u001b[0;32mreturn\u001b[0m \u001b[0;36m0\u001b[0m\u001b[0;34m\u001b[0m\u001b[0m\n",
      "\u001b[0;31mUnboundLocalError\u001b[0m: local variable 'total' referenced before assignment"
     ]
    }
   ],
   "source": [
    "calculate_total(ashley_scores)"
   ]
  },
  {
   "cell_type": "code",
   "execution_count": 41,
   "metadata": {},
   "outputs": [
    {
     "name": "stdout",
     "output_type": "stream",
     "text": [
      "0\n"
     ]
    }
   ],
   "source": [
    "print(str(total))"
   ]
  },
  {
   "cell_type": "code",
   "execution_count": 46,
   "metadata": {
    "collapsed": true
   },
   "outputs": [],
   "source": [
    "def find_max(scores):\n",
    "    maximum = 0\n",
    "    for score in scores:\n",
    "        if score > maximum:\n",
    "            maximum = score\n",
    "    return maximum"
   ]
  },
  {
   "cell_type": "code",
   "execution_count": 47,
   "metadata": {
    "collapsed": true
   },
   "outputs": [],
   "source": [
    "marwin_scores = [8, 8, 2, 4, 5, 6, 6, 7, 10, 6]\n",
    "bella_scores = [1, 4, 9, 9, 9, 10, 10, 10, 10, 9]\n",
    "ashley_scores = [10, 10, 10, 10, 10, 10, 10, 10, 10, 10]"
   ]
  },
  {
   "cell_type": "code",
   "execution_count": 49,
   "metadata": {},
   "outputs": [
    {
     "data": {
      "text/plain": [
       "10"
      ]
     },
     "execution_count": 49,
     "metadata": {},
     "output_type": "execute_result"
    }
   ],
   "source": [
    "find_max(bella_scores)"
   ]
  },
  {
   "cell_type": "code",
   "execution_count": 61,
   "metadata": {
    "collapsed": true
   },
   "outputs": [],
   "source": [
    "def find_min(scores):\n",
    "    minimum = 100000\n",
    "    for score in scores:\n",
    "        if score < minimum:\n",
    "            minimum = score\n",
    "    return minimum"
   ]
  },
  {
   "cell_type": "code",
   "execution_count": 62,
   "metadata": {},
   "outputs": [
    {
     "data": {
      "text/plain": [
       "1"
      ]
     },
     "execution_count": 62,
     "metadata": {},
     "output_type": "execute_result"
    }
   ],
   "source": [
    "find_min(bella_scores)"
   ]
  },
  {
   "cell_type": "code",
   "execution_count": 64,
   "metadata": {},
   "outputs": [],
   "source": [
    "#HW\n",
    "numbers = [8, 4, 5, 9, 1, 9, 2]\n",
    "numbers2 = [1, 2, 4, 5, 8, 9, 9, 8, 6]\n",
    "\n",
    "result = [9, 6, 9, 14, 9, 18, 11, 8, 6]\n",
    "def add_arrays(numbers, numbers2):\n",
    "    print(\"Answer is\")\n",
    "    #fill in here"
   ]
  },
  {
   "cell_type": "code",
   "execution_count": 76,
   "metadata": {},
   "outputs": [],
   "source": [
    "def add_arrays(numbers, numbers2):\n",
    "    \n",
    "    if len(numbers) > len(numbers2):\n",
    "        big_array = numbers\n",
    "        small_array = numbers2\n",
    "    else:\n",
    "        big_array = numbers2\n",
    "        small_array = numbers\n",
    "    \n",
    "    result = []\n",
    "    \n",
    "    for i in range(len(big_array)):\n",
    "        if(i < len(small_array)):\n",
    "            result.append(big_array[i] + small_array[i])\n",
    "        else:\n",
    "            result.append(big_array[i])\n",
    "\n",
    "    return result"
   ]
  },
  {
   "cell_type": "code",
   "execution_count": 77,
   "metadata": {},
   "outputs": [
    {
     "name": "stdout",
     "output_type": "stream",
     "text": [
      "[9, 6, 9, 14, 9, 18, 11, 8, 6]\n"
     ]
    }
   ],
   "source": [
    "numbers = [8, 4, 5, 9, 1, 9, 2]\n",
    "numbers2 = [1, 2, 4, 5, 8, 9, 9, 8, 6]\n",
    "\n",
    "result = add_arrays(numbers, numbers2)\n",
    "print(result)"
   ]
  },
  {
   "cell_type": "code",
   "execution_count": 82,
   "metadata": {
    "collapsed": true
   },
   "outputs": [],
   "source": [
    "def add_arrays(numbers, numbers2):\n",
    "    \n",
    "    big_array = numbers if len(numbers) > len(numbers2) else numbers2\n",
    "    small_array = numbers if len(numbers) <= len(numbers2) else numbers2\n",
    "    \n",
    "    for i in range(len(big_array)):\n",
    "        if(i < len(small_array)):\n",
    "            result.append(big_array[i] + small_array[i])\n",
    "        else:\n",
    "            result.append(big_array[i])\n",
    "\n",
    "    return result"
   ]
  },
  {
   "cell_type": "code",
   "execution_count": 84,
   "metadata": {},
   "outputs": [
    {
     "name": "stdout",
     "output_type": "stream",
     "text": [
      "[9, 6, 9, 14, 9, 18, 11, 8, 6]\n"
     ]
    }
   ],
   "source": [
    "result = []\n",
    "numbers = [8, 4, 5, 9, 1, 9, 2]\n",
    "numbers2 = [1, 2, 4, 5, 8, 9, 9, 8, 6]\n",
    "\n",
    "result = add_arrays(numbers, numbers2)\n",
    "print(result)"
   ]
  },
  {
   "cell_type": "code",
   "execution_count": null,
   "metadata": {
    "collapsed": true
   },
   "outputs": [],
   "source": [
    "# create a function/method to calculate the average of a list of numbers\n",
    "# create function/method to multiply together all the numbers in the list\n",
    "# create function/method to reverse the order of a list (hard!)\n",
    "# create function/method to find maximum priced element in our menu dict as above. function takes only the dict as input\n"
   ]
  }
 ],
 "metadata": {
  "kernelspec": {
   "display_name": "Python 3",
   "language": "python",
   "name": "python3"
  },
  "language_info": {
   "codemirror_mode": {
    "name": "ipython",
    "version": 3
   },
   "file_extension": ".py",
   "mimetype": "text/x-python",
   "name": "python",
   "nbconvert_exporter": "python",
   "pygments_lexer": "ipython3",
   "version": "3.6.1"
  }
 },
 "nbformat": 4,
 "nbformat_minor": 2
}
