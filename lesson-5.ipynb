{
 "cells": [
  {
   "cell_type": "code",
   "execution_count": null,
   "metadata": {
    "collapsed": true
   },
   "outputs": [],
   "source": [
    "# Classes"
   ]
  },
  {
   "cell_type": "code",
   "execution_count": null,
   "metadata": {
    "collapsed": true
   },
   "outputs": [],
   "source": [
    "kid1 = {\"name\": \"Marwin\", \"score\": 81, \"behavior\": \"Nice\"}\n",
    "kid2 = {\"name\": \"Bella\", \"score\": 100, \"behavior\": \"Nice\"}\n",
    "kid3 = {\"name\": \"Hugo\", \"score\": 77, \"behavior\": \"Naughty\"}"
   ]
  },
  {
   "cell_type": "code",
   "execution_count": null,
   "metadata": {},
   "outputs": [],
   "source": [
    "class Kid:\n",
    "    def __init__(self, name, score, behavior):\n",
    "        self.name = name\n",
    "        self.behavior = behavior\n",
    "        self.score = score"
   ]
  },
  {
   "cell_type": "code",
   "execution_count": null,
   "metadata": {
    "collapsed": true
   },
   "outputs": [],
   "source": [
    "marwin = Kid(\"Marwin\", 81, \"Nice\")"
   ]
  },
  {
   "cell_type": "code",
   "execution_count": null,
   "metadata": {},
   "outputs": [],
   "source": [
    "marwin.name"
   ]
  },
  {
   "cell_type": "code",
   "execution_count": null,
   "metadata": {},
   "outputs": [],
   "source": [
    "marwin.behavior"
   ]
  },
  {
   "cell_type": "code",
   "execution_count": null,
   "metadata": {},
   "outputs": [],
   "source": [
    "marwin.score"
   ]
  },
  {
   "cell_type": "code",
   "execution_count": null,
   "metadata": {
    "collapsed": true
   },
   "outputs": [],
   "source": [
    "bella = Kid(\"Bella\", 100, \"Naughty\")"
   ]
  },
  {
   "cell_type": "code",
   "execution_count": null,
   "metadata": {},
   "outputs": [],
   "source": [
    "bella.name"
   ]
  },
  {
   "cell_type": "code",
   "execution_count": null,
   "metadata": {
    "collapsed": true
   },
   "outputs": [],
   "source": [
    "class Kid:\n",
    "    \n",
    "    def __init__(self, name, score, behavior):\n",
    "        self.name = name\n",
    "        self.behavior = behavior\n",
    "        self.score = score\n",
    "    \n",
    "    def details(self):\n",
    "        return \"Name: \" + self.name + \", \" + \"Score: \" + str(self.score)"
   ]
  },
  {
   "cell_type": "code",
   "execution_count": null,
   "metadata": {
    "collapsed": true
   },
   "outputs": [],
   "source": [
    "marwin = Kid(\"Marwin\", 81, \"Nice\")"
   ]
  },
  {
   "cell_type": "code",
   "execution_count": null,
   "metadata": {},
   "outputs": [],
   "source": [
    "marwin.details()"
   ]
  },
  {
   "cell_type": "code",
   "execution_count": null,
   "metadata": {
    "collapsed": true
   },
   "outputs": [],
   "source": [
    "marwin.name = \"Bella\""
   ]
  },
  {
   "cell_type": "code",
   "execution_count": null,
   "metadata": {},
   "outputs": [],
   "source": [
    "marwin.details()"
   ]
  },
  {
   "cell_type": "code",
   "execution_count": 4,
   "metadata": {},
   "outputs": [],
   "source": [
    "# encapsulated\n",
    "class Kid:\n",
    "    \n",
    "    __name = \"\"\n",
    "    \n",
    "    def __init__(self, name, score, behavior):\n",
    "        self.__name = name\n",
    "        self.behavior = behavior\n",
    "        self.score = score\n",
    "    \n",
    "    def details(self):\n",
    "        return \"Name: \" + self.__name + \", \" + \"Score: \" + str(self.score)"
   ]
  },
  {
   "cell_type": "code",
   "execution_count": null,
   "metadata": {},
   "outputs": [],
   "source": [
    "marwin = Kid(\"Marwin\", 81, \"Nice\")\n",
    "marwin.details()"
   ]
  },
  {
   "cell_type": "code",
   "execution_count": null,
   "metadata": {},
   "outputs": [],
   "source": [
    "marwin.__name = \"Bella\"\n",
    "marwin.details()"
   ]
  },
  {
   "cell_type": "code",
   "execution_count": null,
   "metadata": {},
   "outputs": [],
   "source": [
    "print(marwin.__name)"
   ]
  },
  {
   "cell_type": "code",
   "execution_count": null,
   "metadata": {
    "collapsed": true
   },
   "outputs": [],
   "source": [
    "# what the?"
   ]
  },
  {
   "cell_type": "code",
   "execution_count": null,
   "metadata": {
    "collapsed": true
   },
   "outputs": [],
   "source": [
    "marwin.favorite_color = \"blue\""
   ]
  },
  {
   "cell_type": "code",
   "execution_count": null,
   "metadata": {},
   "outputs": [],
   "source": [
    "print(marwin.favorite_color)"
   ]
  },
  {
   "cell_type": "code",
   "execution_count": null,
   "metadata": {
    "collapsed": true
   },
   "outputs": [],
   "source": [
    "# encapsulated\n",
    "class MenuItem:\n",
    "    \n",
    "    __name = \"\"\n",
    "    __price = 0.0\n",
    "    \n",
    "    def __init__(self, name, price):\n",
    "        self.__name = name\n",
    "        self.__price = price\n",
    "    \n",
    "    def __eq__(self, name):\n",
    "        return self.__name == name\n",
    "    \n",
    "    def details(self):\n",
    "        return \"Name: \" + self.__name + \", \" + \"Price: \" + str(self.__price)\n",
    "    \n",
    "    def order(self):\n",
    "        print(\"How many would you like?\")\n",
    "        qty = float(input())\n",
    "        return self.__price * qty"
   ]
  },
  {
   "cell_type": "code",
   "execution_count": null,
   "metadata": {
    "collapsed": true
   },
   "outputs": [],
   "source": [
    "menu = [\n",
    "    MenuItem(\"Cheesecake\", 4.5),\n",
    "    MenuItem(\"Burger\", 6),\n",
    "    MenuItem(\"Tacos\", 4.5),\n",
    "    MenuItem(\"Burrito\", 7),\n",
    "    MenuItem(\"Coke\", 1),\n",
    "    MenuItem(\"Water\", 1.5)\n",
    "]"
   ]
  },
  {
   "cell_type": "code",
   "execution_count": null,
   "metadata": {},
   "outputs": [],
   "source": [
    "taking_order = True\n",
    "bill = 0\n",
    "\n",
    "while taking_order:\n",
    "    for item in menu:\n",
    "        print(item.details())\n",
    "    print(\"\\nWhat do you want?\\n\")\n",
    "    order = input()\n",
    "    taking_order = False\n",
    "    for item in menu:\n",
    "        if item == order:\n",
    "            taking_order = True\n",
    "            bill = bill + item.order()\n",
    "            break\n",
    "\n",
    "print(\"your total is: \" + str(bill))"
   ]
  },
  {
   "cell_type": "code",
   "execution_count": 39,
   "metadata": {},
   "outputs": [],
   "source": [
    "# encapsulated\n",
    "class Kid:\n",
    "    \n",
    "    __name = \"\"\n",
    "    \n",
    "    def __init__(self, name, score, behavior):\n",
    "        self.__name = name\n",
    "        self.behavior = behavior\n",
    "        self.score = score\n",
    "    \n",
    "    def details(self):\n",
    "        return \"Name: \" + self.__name + \", \" + \"Score: \" + str(self.score)\n",
    "    \n",
    "class SantaList:\n",
    "    __naughty = []\n",
    "    __nice = []\n",
    "    \n",
    "    def add_kid(self, kid):\n",
    "        if(kid.score > 90):\n",
    "            self.__nice.append(kid)\n",
    "        else:\n",
    "            self.__naughty.append(kid)\n",
    "\n",
    "    def list_kids(self):\n",
    "        print(\"Naughty:\")\n",
    "        for kid in self.__naughty:\n",
    "            print(kid.details())\n",
    "    \n",
    "        print(\"\\nNice:\")\n",
    "        for kid in self.__nice:\n",
    "            print(kid.details())"
   ]
  },
  {
   "cell_type": "code",
   "execution_count": 42,
   "metadata": {},
   "outputs": [],
   "source": [
    "presents = SantaList()\n",
    "marwin = Kid(\"Marwin\", 81, \"Nice\")\n",
    "bella = Kid(\"Bella\", 99, \"Nice\")\n",
    "ashley = Kid(\"Ashley\", 11, \"Naughty\")\n",
    "johnny = Kid(\"Johnny\", 51, \"Nice\")\n",
    "mathew = Kid(\"Mathew\", 98, \"Nice\")"
   ]
  },
  {
   "cell_type": "code",
   "execution_count": 43,
   "metadata": {
    "collapsed": true
   },
   "outputs": [],
   "source": [
    "presents.add_kid(marwin)\n",
    "presents.add_kid(bella)\n",
    "presents.add_kid(ashley)\n",
    "presents.add_kid(johnny)\n",
    "presents.add_kid(mathew)"
   ]
  },
  {
   "cell_type": "code",
   "execution_count": 44,
   "metadata": {},
   "outputs": [
    {
     "name": "stdout",
     "output_type": "stream",
     "text": [
      "Naughty:\n",
      "Name: Marwin, Score: 81\n",
      "Name: Ashley, Score: 11\n",
      "Name: Johnny, Score: 51\n",
      "\n",
      "Nice:\n",
      "Name: Bella, Score: 99\n",
      "Name: Mathew, Score: 98\n"
     ]
    }
   ],
   "source": [
    "presents.list_kids()"
   ]
  },
  {
   "cell_type": "code",
   "execution_count": 46,
   "metadata": {
    "collapsed": true
   },
   "outputs": [],
   "source": [
    "# HW prevent adding duplicate kids by name\n",
    "# HW add a third list called ehh for kids within scores of 70-90\n",
    "# Make sure to also print that list"
   ]
  }
 ],
 "metadata": {
  "kernelspec": {
   "display_name": "Python 3",
   "language": "python",
   "name": "python3"
  },
  "language_info": {
   "codemirror_mode": {
    "name": "ipython",
    "version": 3
   },
   "file_extension": ".py",
   "mimetype": "text/x-python",
   "name": "python",
   "nbconvert_exporter": "python",
   "pygments_lexer": "ipython3",
   "version": "3.6.1"
  }
 },
 "nbformat": 4,
 "nbformat_minor": 2
}
