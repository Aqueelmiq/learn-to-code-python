{
 "cells": [
  {
   "cell_type": "code",
   "execution_count": 1,
   "metadata": {
    "collapsed": true
   },
   "outputs": [],
   "source": [
    "# Life is about to get easier"
   ]
  },
  {
   "cell_type": "code",
   "execution_count": 2,
   "metadata": {},
   "outputs": [
    {
     "data": {
      "text/plain": [
       "22"
      ]
     },
     "execution_count": 2,
     "metadata": {},
     "output_type": "execute_result"
    }
   ],
   "source": [
    "scores = [1, 2, 7, 1, 5, 6]\n",
    "sum(scores)"
   ]
  },
  {
   "cell_type": "code",
   "execution_count": 3,
   "metadata": {
    "collapsed": true
   },
   "outputs": [],
   "source": [
    "# Wait how?"
   ]
  },
  {
   "cell_type": "code",
   "execution_count": 4,
   "metadata": {},
   "outputs": [
    {
     "data": {
      "text/plain": [
       "7"
      ]
     },
     "execution_count": 4,
     "metadata": {},
     "output_type": "execute_result"
    }
   ],
   "source": [
    "max(scores)"
   ]
  },
  {
   "cell_type": "code",
   "execution_count": 5,
   "metadata": {},
   "outputs": [
    {
     "data": {
      "text/plain": [
       "1"
      ]
     },
     "execution_count": 5,
     "metadata": {},
     "output_type": "execute_result"
    }
   ],
   "source": [
    "min(scores)"
   ]
  },
  {
   "cell_type": "code",
   "execution_count": 6,
   "metadata": {},
   "outputs": [
    {
     "name": "stdout",
     "output_type": "stream",
     "text": [
      "Naughty:\n",
      "Bella\n",
      "Neil\n",
      "Son Min\n",
      "Hugo\n",
      "Nessy\n",
      "\n",
      "Nice:\n",
      "Marwin\n",
      "Aaron\n",
      "Ikena\n",
      "Akhil\n",
      "Ashley\n",
      "Madison\n"
     ]
    }
   ],
   "source": [
    "kids = [\n",
    "    {\"name\": \"Marwin\", \"score\": 81},\n",
    "    {\"name\": \"Bella\", \"score\": 11},\n",
    "    {\"name\": \"Aaron\", \"score\": 93},\n",
    "    {\"name\": \"Neil\", \"score\": 64},\n",
    "    {\"name\": \"Ikena\", \"score\": 102},\n",
    "    {\"name\": \"Son Min\", \"score\": 11},\n",
    "    {\"name\": \"Hugo\", \"score\": 38},\n",
    "    {\"name\": \"Akhil\", \"score\": 85},\n",
    "    {\"name\": \"Ashley\", \"score\": 91},\n",
    "    {\"name\": \"Madison\", \"score\": 91},\n",
    "    {\"name\": \"Nessy\", \"score\": 69}\n",
    "]\n",
    "\n",
    "nice_list = []\n",
    "naughty_list = []\n",
    "\n",
    "for kid in kids:\n",
    "    if kid[\"score\"] > 80:\n",
    "        nice_list = nice_list + [kid]\n",
    "    else:\n",
    "        naughty_list = naughty_list + [kid]\n",
    "        \n",
    "print(\"Naughty:\")\n",
    "for kid in naughty_list:\n",
    "    print(kid[\"name\"])\n",
    "    \n",
    "print(\"\\nNice:\")\n",
    "for kid in nice_list:\n",
    "    print(kid[\"name\"])"
   ]
  },
  {
   "cell_type": "code",
   "execution_count": 7,
   "metadata": {},
   "outputs": [
    {
     "data": {
      "text/plain": [
       "{'name': 'Madison', 'score': 91}"
      ]
     },
     "execution_count": 7,
     "metadata": {},
     "output_type": "execute_result"
    }
   ],
   "source": [
    "nice_list[-1]"
   ]
  },
  {
   "cell_type": "code",
   "execution_count": 8,
   "metadata": {},
   "outputs": [
    {
     "data": {
      "text/plain": [
       "{'name': 'Ashley', 'score': 91}"
      ]
     },
     "execution_count": 8,
     "metadata": {},
     "output_type": "execute_result"
    }
   ],
   "source": [
    "nice_list[-2]"
   ]
  },
  {
   "cell_type": "code",
   "execution_count": 9,
   "metadata": {
    "collapsed": true
   },
   "outputs": [],
   "source": [
    "nice_list[2] = {\"name\": \"Aaron\", \"score\": 99}"
   ]
  },
  {
   "cell_type": "code",
   "execution_count": 10,
   "metadata": {},
   "outputs": [
    {
     "data": {
      "text/plain": [
       "{'name': 'Aaron', 'score': 99}"
      ]
     },
     "execution_count": 10,
     "metadata": {},
     "output_type": "execute_result"
    }
   ],
   "source": [
    "nice_list[2]"
   ]
  },
  {
   "cell_type": "code",
   "execution_count": 15,
   "metadata": {},
   "outputs": [
    {
     "data": {
      "text/plain": [
       "[{'name': 'Aaron', 'score': 93}]"
      ]
     },
     "execution_count": 15,
     "metadata": {},
     "output_type": "execute_result"
    }
   ],
   "source": [
    "nice_list[1:2]"
   ]
  },
  {
   "cell_type": "code",
   "execution_count": 16,
   "metadata": {},
   "outputs": [
    {
     "data": {
      "text/plain": [
       "[{'name': 'Marwin', 'score': 81}, {'name': 'Aaron', 'score': 93}]"
      ]
     },
     "execution_count": 16,
     "metadata": {},
     "output_type": "execute_result"
    }
   ],
   "source": [
    "nice_list[:2]"
   ]
  },
  {
   "cell_type": "code",
   "execution_count": 17,
   "metadata": {},
   "outputs": [
    {
     "data": {
      "text/plain": [
       "[{'name': 'Akhil', 'score': 85},\n",
       " {'name': 'Ashley', 'score': 91},\n",
       " {'name': 'Madison', 'score': 91},\n",
       " {'name': 'Bella', 'score': 11},\n",
       " {'name': 'Neil', 'score': 64},\n",
       " {'name': 'Son Min', 'score': 11},\n",
       " {'name': 'Hugo', 'score': 38},\n",
       " {'name': 'Nessy', 'score': 69}]"
      ]
     },
     "execution_count": 17,
     "metadata": {},
     "output_type": "execute_result"
    }
   ],
   "source": [
    "nice_list[3:]"
   ]
  },
  {
   "cell_type": "code",
   "execution_count": 11,
   "metadata": {},
   "outputs": [
    {
     "data": {
      "text/plain": [
       "[{'name': 'Marwin', 'score': 81},\n",
       " {'name': 'Aaron', 'score': 93},\n",
       " {'name': 'Aaron', 'score': 99},\n",
       " {'name': 'Akhil', 'score': 85},\n",
       " {'name': 'Ashley', 'score': 91},\n",
       " {'name': 'Madison', 'score': 91}]"
      ]
     },
     "execution_count": 11,
     "metadata": {},
     "output_type": "execute_result"
    }
   ],
   "source": [
    "nice_list"
   ]
  },
  {
   "cell_type": "code",
   "execution_count": 12,
   "metadata": {},
   "outputs": [
    {
     "data": {
      "text/plain": [
       "[{'name': 'Marwin', 'score': 81},\n",
       " {'name': 'Aaron', 'score': 93},\n",
       " {'name': 'Aaron', 'score': 99},\n",
       " {'name': 'Akhil', 'score': 85},\n",
       " {'name': 'Ashley', 'score': 91},\n",
       " {'name': 'Madison', 'score': 91},\n",
       " {'name': 'Bella', 'score': 11},\n",
       " {'name': 'Neil', 'score': 64},\n",
       " {'name': 'Son Min', 'score': 11},\n",
       " {'name': 'Hugo', 'score': 38},\n",
       " {'name': 'Nessy', 'score': 69}]"
      ]
     },
     "execution_count": 12,
     "metadata": {},
     "output_type": "execute_result"
    }
   ],
   "source": [
    "kids_list = nice_list\n",
    "kids_list.extend(naughty_list)\n",
    "kids_list"
   ]
  },
  {
   "cell_type": "code",
   "execution_count": 13,
   "metadata": {},
   "outputs": [
    {
     "data": {
      "text/plain": [
       "[{'name': 'Marwin', 'score': 81},\n",
       " {'name': 'Aaron', 'score': 93},\n",
       " {'name': 'Aaron', 'score': 99},\n",
       " {'name': 'Akhil', 'score': 85},\n",
       " {'name': 'Ashley', 'score': 91},\n",
       " {'name': 'Madison', 'score': 91},\n",
       " {'name': 'Bella', 'score': 11},\n",
       " {'name': 'Neil', 'score': 64},\n",
       " {'name': 'Son Min', 'score': 11},\n",
       " {'name': 'Hugo', 'score': 38},\n",
       " {'name': 'Nessy', 'score': 69}]"
      ]
     },
     "execution_count": 13,
     "metadata": {},
     "output_type": "execute_result"
    }
   ],
   "source": [
    "nice_list"
   ]
  },
  {
   "cell_type": "code",
   "execution_count": 42,
   "metadata": {},
   "outputs": [
    {
     "name": "stdout",
     "output_type": "stream",
     "text": [
      "Naughty:\n",
      "Bella\n",
      "Neil\n",
      "Son Min\n",
      "Hugo\n",
      "Nessy\n",
      "\n",
      "Nice:\n",
      "Marwin\n",
      "Aaron\n",
      "Ikena\n",
      "Akhil\n",
      "Ashley\n",
      "Madison\n"
     ]
    }
   ],
   "source": [
    "kids = [\n",
    "    {\"name\": \"Marwin\", \"score\": 81},\n",
    "    {\"name\": \"Bella\", \"score\": 11},\n",
    "    {\"name\": \"Aaron\", \"score\": 93},\n",
    "    {\"name\": \"Neil\", \"score\": 64},\n",
    "    {\"name\": \"Ikena\", \"score\": 102},\n",
    "    {\"name\": \"Son Min\", \"score\": 11},\n",
    "    {\"name\": \"Hugo\", \"score\": 38},\n",
    "    {\"name\": \"Akhil\", \"score\": 85},\n",
    "    {\"name\": \"Ashley\", \"score\": 91},\n",
    "    {\"name\": \"Madison\", \"score\": 91},\n",
    "    {\"name\": \"Nessy\", \"score\": 69}\n",
    "]\n",
    "\n",
    "nice_list = []\n",
    "naughty_list = []\n",
    "\n",
    "for kid in kids:\n",
    "    if kid[\"score\"] > 80:\n",
    "        nice_list = nice_list + [kid]\n",
    "    else:\n",
    "        naughty_list = naughty_list + [kid]\n",
    "        \n",
    "print(\"Naughty:\")\n",
    "for kid in naughty_list:\n",
    "    print(kid[\"name\"])\n",
    "    \n",
    "print(\"\\nNice:\")\n",
    "for kid in nice_list:\n",
    "    print(kid[\"name\"])"
   ]
  },
  {
   "cell_type": "code",
   "execution_count": 14,
   "metadata": {
    "collapsed": true
   },
   "outputs": [],
   "source": [
    "# What?"
   ]
  },
  {
   "cell_type": "code",
   "execution_count": 44,
   "metadata": {},
   "outputs": [
    {
     "data": {
      "text/plain": [
       "[{'name': 'Marwin', 'score': 81},\n",
       " {'name': 'Aaron', 'score': 93},\n",
       " {'name': 'Ikena', 'score': 102},\n",
       " {'name': 'Akhil', 'score': 85},\n",
       " {'name': 'Ashley', 'score': 91},\n",
       " {'name': 'Madison', 'score': 91},\n",
       " {'name': 'Bella', 'score': 11},\n",
       " {'name': 'Neil', 'score': 64},\n",
       " {'name': 'Son Min', 'score': 11},\n",
       " {'name': 'Hugo', 'score': 38},\n",
       " {'name': 'Nessy', 'score': 69}]"
      ]
     },
     "execution_count": 44,
     "metadata": {},
     "output_type": "execute_result"
    }
   ],
   "source": [
    "kids_list = nice_list.copy()\n",
    "kids_list.extend(naughty_list)\n",
    "kids_list"
   ]
  },
  {
   "cell_type": "code",
   "execution_count": 45,
   "metadata": {},
   "outputs": [
    {
     "data": {
      "text/plain": [
       "[{'name': 'Marwin', 'score': 81},\n",
       " {'name': 'Aaron', 'score': 93},\n",
       " {'name': 'Ikena', 'score': 102},\n",
       " {'name': 'Akhil', 'score': 85},\n",
       " {'name': 'Ashley', 'score': 91},\n",
       " {'name': 'Madison', 'score': 91}]"
      ]
     },
     "execution_count": 45,
     "metadata": {},
     "output_type": "execute_result"
    }
   ],
   "source": [
    "nice_list"
   ]
  },
  {
   "cell_type": "code",
   "execution_count": 24,
   "metadata": {
    "collapsed": true
   },
   "outputs": [],
   "source": [
    "scores = [1, 2, 7, 1, 5, 6]"
   ]
  },
  {
   "cell_type": "code",
   "execution_count": 21,
   "metadata": {},
   "outputs": [
    {
     "data": {
      "text/plain": [
       "[1, 2, 7, 1, 5, 6]"
      ]
     },
     "execution_count": 21,
     "metadata": {},
     "output_type": "execute_result"
    }
   ],
   "source": [
    "scores.reverse()\n",
    "scores"
   ]
  },
  {
   "cell_type": "code",
   "execution_count": 22,
   "metadata": {},
   "outputs": [
    {
     "data": {
      "text/plain": [
       "2"
      ]
     },
     "execution_count": 22,
     "metadata": {},
     "output_type": "execute_result"
    }
   ],
   "source": [
    "scores.index(7)"
   ]
  },
  {
   "cell_type": "code",
   "execution_count": 26,
   "metadata": {},
   "outputs": [
    {
     "data": {
      "text/plain": [
       "[1, 2, 1, 5, 6]"
      ]
     },
     "execution_count": 26,
     "metadata": {},
     "output_type": "execute_result"
    }
   ],
   "source": [
    "scores = [1, 2, 7, 1, 5, 6]\n",
    "del scores[scores.index(7)]\n",
    "scores"
   ]
  },
  {
   "cell_type": "code",
   "execution_count": 27,
   "metadata": {},
   "outputs": [
    {
     "data": {
      "text/plain": [
       "4"
      ]
     },
     "execution_count": 27,
     "metadata": {},
     "output_type": "execute_result"
    }
   ],
   "source": [
    "scores = [4, 5, 6, 10, 10, 10, 9, 2, 9, 10]\n",
    "scores.count(10)"
   ]
  },
  {
   "cell_type": "code",
   "execution_count": 29,
   "metadata": {},
   "outputs": [
    {
     "data": {
      "text/plain": [
       "[4, 5, 6, 10, 5, 10, 10, 9, 2, 9, 10]"
      ]
     },
     "execution_count": 29,
     "metadata": {},
     "output_type": "execute_result"
    }
   ],
   "source": [
    "scores = [4, 5, 6, 10, 10, 10, 9, 2, 9, 10]\n",
    "scores.insert(4, 5)\n",
    "scores"
   ]
  },
  {
   "cell_type": "code",
   "execution_count": 30,
   "metadata": {},
   "outputs": [
    {
     "data": {
      "text/plain": [
       "[4, 6, 10, 10, 10, 9, 2, 9, 10]"
      ]
     },
     "execution_count": 30,
     "metadata": {},
     "output_type": "execute_result"
    }
   ],
   "source": [
    "scores = [4, 5, 6, 10, 10, 10, 9, 2, 9, 10]\n",
    "scores.remove(5)\n",
    "scores"
   ]
  },
  {
   "cell_type": "code",
   "execution_count": 31,
   "metadata": {},
   "outputs": [
    {
     "data": {
      "text/plain": [
       "[4, 5, 6, 10, 10, 10, 9, 2, 9, 10]"
      ]
     },
     "execution_count": 31,
     "metadata": {},
     "output_type": "execute_result"
    }
   ],
   "source": [
    "scores = [4, 5, 5, 6, 10, 10, 10, 9, 2, 9, 10]\n",
    "scores.remove(5)\n",
    "scores"
   ]
  },
  {
   "cell_type": "code",
   "execution_count": 33,
   "metadata": {},
   "outputs": [
    {
     "data": {
      "text/plain": [
       "[4, 5, 5, 6, 10, 10, 10, 9, 2, 9]"
      ]
     },
     "execution_count": 33,
     "metadata": {},
     "output_type": "execute_result"
    }
   ],
   "source": [
    "scores = [4, 5, 5, 6, 10, 10, 10, 9, 2, 9, 10]\n",
    "scores.pop()\n",
    "scores"
   ]
  },
  {
   "cell_type": "code",
   "execution_count": 34,
   "metadata": {},
   "outputs": [
    {
     "data": {
      "text/plain": [
       "[5, 5, 6, 10, 10, 10, 9, 2, 9, 10]"
      ]
     },
     "execution_count": 34,
     "metadata": {},
     "output_type": "execute_result"
    }
   ],
   "source": [
    "scores = [4, 5, 5, 6, 10, 10, 10, 9, 2, 9, 10]\n",
    "scores.pop(0)\n",
    "scores"
   ]
  },
  {
   "cell_type": "code",
   "execution_count": 36,
   "metadata": {},
   "outputs": [
    {
     "data": {
      "text/plain": [
       "[4, 5, 5, 6, 10, 10, 9, 2, 9, 10]"
      ]
     },
     "execution_count": 36,
     "metadata": {},
     "output_type": "execute_result"
    }
   ],
   "source": [
    "scores = [4, 5, 5, 6, 10, 10, 10, 9, 2, 9, 10]\n",
    "scores.pop(5)\n",
    "scores"
   ]
  },
  {
   "cell_type": "code",
   "execution_count": 37,
   "metadata": {},
   "outputs": [
    {
     "data": {
      "text/plain": [
       "[2, 4, 5, 5, 6, 9, 9, 10, 10, 10, 10]"
      ]
     },
     "execution_count": 37,
     "metadata": {},
     "output_type": "execute_result"
    }
   ],
   "source": [
    "scores = [4, 5, 5, 6, 10, 10, 10, 9, 2, 9, 10]\n",
    "scores.sort()\n",
    "scores"
   ]
  },
  {
   "cell_type": "code",
   "execution_count": 41,
   "metadata": {},
   "outputs": [
    {
     "data": {
      "text/plain": [
       "[10, 10, 10, 10, 9, 9, 6, 5, 5, 4, 2]"
      ]
     },
     "execution_count": 41,
     "metadata": {},
     "output_type": "execute_result"
    }
   ],
   "source": [
    "scores = [4, 5, 5, 6, 10, 10, 10, 9, 2, 9, 10]\n",
    "scores.sort(reverse=True)\n",
    "scores"
   ]
  },
  {
   "cell_type": "code",
   "execution_count": 47,
   "metadata": {},
   "outputs": [
    {
     "data": {
      "text/plain": [
       "8"
      ]
     },
     "execution_count": 47,
     "metadata": {},
     "output_type": "execute_result"
    }
   ],
   "source": [
    "my_name = \"John Doe\"\n",
    "len(my_name)"
   ]
  },
  {
   "cell_type": "code",
   "execution_count": 48,
   "metadata": {},
   "outputs": [
    {
     "data": {
      "text/plain": [
       "0"
      ]
     },
     "execution_count": 48,
     "metadata": {},
     "output_type": "execute_result"
    }
   ],
   "source": [
    "my_name.index(\"J\")"
   ]
  },
  {
   "cell_type": "code",
   "execution_count": 50,
   "metadata": {},
   "outputs": [
    {
     "data": {
      "text/plain": [
       "0"
      ]
     },
     "execution_count": 50,
     "metadata": {},
     "output_type": "execute_result"
    }
   ],
   "source": [
    "my_name.index(\"Jo\")"
   ]
  },
  {
   "cell_type": "code",
   "execution_count": 51,
   "metadata": {},
   "outputs": [
    {
     "data": {
      "text/plain": [
       "1"
      ]
     },
     "execution_count": 51,
     "metadata": {},
     "output_type": "execute_result"
    }
   ],
   "source": [
    "my_name.index(\"oh\")"
   ]
  },
  {
   "cell_type": "code",
   "execution_count": 52,
   "metadata": {},
   "outputs": [
    {
     "ename": "ValueError",
     "evalue": "substring not found",
     "output_type": "error",
     "traceback": [
      "\u001b[0;31m---------------------------------------------------------------------------\u001b[0m",
      "\u001b[0;31mValueError\u001b[0m                                Traceback (most recent call last)",
      "\u001b[0;32m<ipython-input-52-6ff060acff87>\u001b[0m in \u001b[0;36m<module>\u001b[0;34m()\u001b[0m\n\u001b[0;32m----> 1\u001b[0;31m \u001b[0mmy_name\u001b[0m\u001b[0;34m.\u001b[0m\u001b[0mindex\u001b[0m\u001b[0;34m(\u001b[0m\u001b[0;34m\"x\"\u001b[0m\u001b[0;34m)\u001b[0m\u001b[0;34m\u001b[0m\u001b[0m\n\u001b[0m",
      "\u001b[0;31mValueError\u001b[0m: substring not found"
     ]
    }
   ],
   "source": [
    "my_name.index(\"x\")"
   ]
  },
  {
   "cell_type": "code",
   "execution_count": 53,
   "metadata": {},
   "outputs": [
    {
     "data": {
      "text/plain": [
       "12"
      ]
     },
     "execution_count": 53,
     "metadata": {},
     "output_type": "execute_result"
    }
   ],
   "source": [
    "xs = \"xxxxxxxyyyyxxxxyx\"\n",
    "xs.count(\"x\")"
   ]
  },
  {
   "cell_type": "code",
   "execution_count": 54,
   "metadata": {},
   "outputs": [
    {
     "data": {
      "text/plain": [
       "3"
      ]
     },
     "execution_count": 54,
     "metadata": {},
     "output_type": "execute_result"
    }
   ],
   "source": [
    "xs.count(\"xxx\")"
   ]
  },
  {
   "cell_type": "code",
   "execution_count": 55,
   "metadata": {},
   "outputs": [
    {
     "data": {
      "text/plain": [
       "1"
      ]
     },
     "execution_count": 55,
     "metadata": {},
     "output_type": "execute_result"
    }
   ],
   "source": [
    "xs.count(\"xxxxxx\")"
   ]
  },
  {
   "cell_type": "code",
   "execution_count": 57,
   "metadata": {},
   "outputs": [
    {
     "data": {
      "text/plain": [
       "True"
      ]
     },
     "execution_count": 57,
     "metadata": {},
     "output_type": "execute_result"
    }
   ],
   "source": [
    "xs.startswith(\"xx\")"
   ]
  },
  {
   "cell_type": "code",
   "execution_count": 58,
   "metadata": {},
   "outputs": [
    {
     "data": {
      "text/plain": [
       "False"
      ]
     },
     "execution_count": 58,
     "metadata": {},
     "output_type": "execute_result"
    }
   ],
   "source": [
    "xs.endswith(\"xx\")"
   ]
  },
  {
   "cell_type": "code",
   "execution_count": 59,
   "metadata": {},
   "outputs": [
    {
     "data": {
      "text/plain": [
       "False"
      ]
     },
     "execution_count": 59,
     "metadata": {},
     "output_type": "execute_result"
    }
   ],
   "source": [
    "xs.endswith(\"xy\")"
   ]
  },
  {
   "cell_type": "code",
   "execution_count": 60,
   "metadata": {},
   "outputs": [
    {
     "data": {
      "text/plain": [
       "'Aqueel'"
      ]
     },
     "execution_count": 60,
     "metadata": {},
     "output_type": "execute_result"
    }
   ],
   "source": [
    "name = \"Hello Aqueel\"\n",
    "name[6:]"
   ]
  },
  {
   "cell_type": "code",
   "execution_count": null,
   "metadata": {
    "collapsed": true
   },
   "outputs": [],
   "source": [
    "# HW: Implementing sort function\n",
    "# find all duplicate in an array, return duplicate as an array\n",
    "# duplicate only array cannot have duplicates\n",
    "# Look into sets data structures, now redo the duplicates question with sets"
   ]
  }
 ],
 "metadata": {
  "kernelspec": {
   "display_name": "Python 3",
   "language": "python",
   "name": "python3"
  },
  "language_info": {
   "codemirror_mode": {
    "name": "ipython",
    "version": 3
   },
   "file_extension": ".py",
   "mimetype": "text/x-python",
   "name": "python",
   "nbconvert_exporter": "python",
   "pygments_lexer": "ipython3",
   "version": "3.6.1"
  }
 },
 "nbformat": 4,
 "nbformat_minor": 2
}
